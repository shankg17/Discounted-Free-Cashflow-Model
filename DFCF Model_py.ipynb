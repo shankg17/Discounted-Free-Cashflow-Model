{
 "cells": [
  {
   "cell_type": "code",
   "execution_count": null,
   "id": "6e4e1f63-c1e9-48e4-8f21-a8dc9b365f3d",
   "metadata": {},
   "outputs": [],
   "source": [
    "# Let's import the libraries\n",
    "import yfinance as yf \n",
    "# Pandas is used for dataframe and tabular data manipulation\n",
    "import pandas as pd "
   ]
  },
  {
   "cell_type": "code",
   "execution_count": null,
   "id": "5136307a-8247-4ba4-a93e-7f0c3f4c5bc9",
   "metadata": {},
   "outputs": [],
   "source": [
    "#Creating a function to execute DCF Model\n",
    "def dfcf_fn(stock):\n",
    "    fc = int((stock.get_cash_flow().iloc[0,0]))\n",
    "    dfcf_acc = 0\n",
    "    fcf_acc = 0\n",
    "    g_10 = float(input(\"Enter Growth Rate for upto 10 Years(in %):\"))\n",
    "    g_11 = float(input(\"Enter Growth Rate for >10 Years(in %):\"))\n",
    "    disc_rate = float(input(\"Enter Discount Rate(in %):\"))\n",
    "\n",
    "    for i in range(1,11):\n",
    "        fcf = float(fc*(1+(g_10/100))**i)\n",
    "        #print(fcf)\n",
    "        fcf_11 = fcf*((1+(g_11/100))/((disc_rate-g_11)/100))\n",
    "        dfcf= round(float(fcf/((1+(disc_rate/100))**i)),2)\n",
    "        #print(dfcf)\n",
    "        dfcf_acc = dfcf + dfcf_acc\n",
    "   \n",
    "    dfcf_total = dfcf_acc + (fcf_11/(1+(disc_rate/100))**10)\n",
    "    print('Valuation w/o MOS(in B):{}'.format(round(dfcf_total/1000000000),1))\n",
    "    print('Current MCAP(in B):{}'.format(round(stock.fast_info['marketCap']/1000000000),1))\n",
    "    return round(dfcf_total/1000000000,2)"
   ]
  },
  {
   "cell_type": "code",
   "execution_count": null,
   "id": "1e46a17b-8108-4ae7-92ea-5acd065f317d",
   "metadata": {},
   "outputs": [],
   "source": [
    "#Code for Stock Valuation Data Frame for multiple stocks:\n",
    "\n",
    "stock_valuation_df = pd.DataFrame(columns=['symbol','comp_name','intrinsic_value','mkt_cap'])\n",
    "tick = str(input('Input Ticker Symbol:'))\n",
    "stock = yf.Ticker(tick.upper())\n",
    "shares = stock.fast_info['marketCap']/stock.info['currentPrice']\n",
    "print(stock.info['shortName'])\n",
    "print(\"Current Price\",stock.info['currentPrice'])\n",
    "#stock.get_cash_flow()\n",
    "print(\"Free Cash Flow\",stock.get_cash_flow().iloc[0,0]/1000000)\n",
    "\n",
    "q = [stock,stock.info['shortName'], dfcf_fn(stock),round(stock.fast_info['marketCap']/1000000000,2)]\n",
    "\n",
    "stock_valuation_df.loc[len(stock_valuation_df)] = q #This is how we append a list to a DF.\n",
    "print(\"Buy Price:\",round(((q[2]*1000000000)/shares),2))\n",
    "stock_valuation_df"
   ]
  },
  {
   "cell_type": "code",
   "execution_count": null,
   "id": "46e642cc-d1b7-44e4-81b0-ae20c40f368b",
   "metadata": {},
   "outputs": [],
   "source": []
  }
 ],
 "metadata": {
  "kernelspec": {
   "display_name": "Python 3 (ipykernel)",
   "language": "python",
   "name": "python3"
  },
  "language_info": {
   "codemirror_mode": {
    "name": "ipython",
    "version": 3
   },
   "file_extension": ".py",
   "mimetype": "text/x-python",
   "name": "python",
   "nbconvert_exporter": "python",
   "pygments_lexer": "ipython3",
   "version": "3.13.1"
  }
 },
 "nbformat": 4,
 "nbformat_minor": 5
}
